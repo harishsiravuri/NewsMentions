{
 "cells": [
  {
   "cell_type": "code",
   "execution_count": 4,
   "metadata": {
    "collapsed": false
   },
   "outputs": [],
   "source": [
    "from sklearn.naive_bayes import MultinomialNB\n",
    "from sklearn.model_selection import KFold\n",
    "# from sklearn.cross_validation import cross_val_score\n",
    "import pandas as pd\n",
    "import numpy as np\n",
    "from sklearn import metrics\n",
    "\n",
    "clf = MultinomialNB()\n",
    "use_jrnl_metrics=False\n",
    "\n",
    "raw_data=pd.read_csv(r\"RandomData.csv\")"
   ]
  },
  {
   "cell_type": "code",
   "execution_count": 5,
   "metadata": {
    "collapsed": false
   },
   "outputs": [],
   "source": [
    "raw_data = raw_data.sample(frac=1).reset_index(drop=True)\n",
    "train = raw_data.sample(frac=0.8, random_state=1)\n",
    "test = raw_data.loc[~raw_data.index.isin(train.index)]\n",
    "# , \"q&a\", \"pinterest\", \"citeulike\", \"connotea\"\n",
    "data_columns=[\"mendeley\", \"twitter\", \"reddit\", \"q&a\", \"pinterest\", \"citeulike\", \"connotea\", \"facebook\", \"googleplus\", \"blogs\", \"video\", \"wikipedia\", \"weibo\", \"peer_reviews\", \"policy\"]\n",
    "#if use_jrnl_metrics:\n",
    "#    data_columns.append(\"h_index\")\n",
    "train_data_array=train.as_matrix(columns=data_columns)\n",
    "train_class_array= train['news'].values\n",
    "test_data_array=test.as_matrix(columns=data_columns)\n",
    "test_class_array= test['news'].values\n"
   ]
  },
  {
   "cell_type": "code",
   "execution_count": 6,
   "metadata": {
    "collapsed": false
   },
   "outputs": [
    {
     "name": "stdout",
     "output_type": "stream",
     "text": [
      "Validation Accuracy:   0.779\n",
      "Accuracy:   0.782\n",
      "Precision:   0.302\n",
      "Recall:   0.365\n",
      "F-measure:   0.331\n"
     ]
    }
   ],
   "source": [
    "kf=KFold(n_splits=10, random_state=None, shuffle=False)\n",
    "validation_score=0\n",
    "for train_index, test_index in kf.split(train_data_array):\n",
    "    X_train, X_test = train_data_array[train_index], train_data_array[test_index]\n",
    "    y_train, y_test = train_class_array[train_index], train_class_array[test_index]\n",
    "    clf.fit(X_train, y_train)\n",
    "    validation_pred=clf.predict(X_test)\n",
    "    validation_score+=metrics.accuracy_score(y_test,validation_pred)\n",
    "\n",
    "print(\"Validation Accuracy:   %0.3f\" % (validation_score/kf.get_n_splits()))\n",
    "\n",
    "pred = clf.predict(test_data_array)\n",
    "score = metrics.accuracy_score(test_class_array, pred)\n",
    "print(\"Accuracy:   %0.3f\" % score)\n",
    "\n",
    "score = metrics.precision_score(test_class_array, pred)\n",
    "print(\"Precision:   %0.3f\" % score)\n",
    "\n",
    "score = metrics.recall_score(test_class_array, pred)\n",
    "print(\"Recall:   %0.3f\" % score)\n",
    "\n",
    "score = metrics.f1_score(test_class_array, pred)\n",
    "print(\"F-measure:   %0.3f\" % score)"
   ]
  },
  {
   "cell_type": "code",
   "execution_count": 7,
   "metadata": {
    "collapsed": false
   },
   "outputs": [
    {
     "name": "stdout",
     "output_type": "stream",
     "text": [
      "-6.5836\tpinterest\n",
      "-6.3270\tconnotea\n",
      "-6.2197\tq&a\n",
      "-5.5311\tciteulike\n",
      "-5.2627\tvideo\n",
      "-5.2042\twikipedia\n",
      "-5.0045\tpeer_reviews\n",
      "-4.6448\treddit\n",
      "-4.3409\tweibo\n",
      "-4.3405\tpolicy\n",
      "-4.0367\tblogs\n",
      "-3.5126\tgoogleplus\n",
      "-2.8116\tfacebook\n",
      "-1.3097\ttwitter\n",
      "-0.5792\tmendeley\n"
     ]
    }
   ],
   "source": [
    "coefs_with_fns = sorted(zip(clf.coef_[0], data_columns))\n",
    "for (coef_1, fn_1) in coefs_with_fns:\n",
    "        print(\"%.4f\\t%s\" % (coef_1, fn_1))"
   ]
  },
  {
   "cell_type": "code",
   "execution_count": 15,
   "metadata": {
    "collapsed": false
   },
   "outputs": [],
   "source": [
    "def perf_measure(test_class_array, pred):\n",
    "    TP = 0\n",
    "    FP = 0\n",
    "    TN = 0\n",
    "    FN = 0\n",
    "\n",
    "    for i in range(len(pred)): \n",
    "        if test_class_array[i]==pred[i]==1:\n",
    "           TP += 1\n",
    "    for i in range(len(pred)): \n",
    "        if (pred[i]==1 - test_class_array).all()!=pred[i]:\n",
    "           FP += 1\n",
    "    for i in range(len(pred)): \n",
    "        if test_class_array[i]==pred[i]==0:\n",
    "           TN += 1\n",
    "    for i in range(len(pred)): \n",
    "        if (pred[i]==0 - test_class_array).all()!=pred[i]:\n",
    "           FN += 1\n",
    "        \n",
    "        return(TP, FP, TN, FN)"
   ]
  },
  {
   "cell_type": "code",
   "execution_count": 16,
   "metadata": {
    "collapsed": false
   },
   "outputs": [
    {
     "name": "stdout",
     "output_type": "stream",
     "text": [
      "1920 6356 26044 0\n"
     ]
    }
   ],
   "source": [
    "tp, fp, tn, fn = perf_measure(test_class_array, pred)\n",
    "print(tp, fp, tn, fn)"
   ]
  },
  {
   "cell_type": "code",
   "execution_count": 19,
   "metadata": {
    "collapsed": false
   },
   "outputs": [
    {
     "name": "stderr",
     "output_type": "stream",
     "text": [
      "C:\\Program Files\\Anaconda3\\lib\\site-packages\\matplotlib\\legend.py:325: UserWarning: Unrecognized location \"lower_right\". Falling back on \"best\"; valid locations are\n",
      "\tcenter left\n",
      "\tlower center\n",
      "\tlower right\n",
      "\tcenter right\n",
      "\tbest\n",
      "\tupper right\n",
      "\tright\n",
      "\tupper center\n",
      "\tupper left\n",
      "\tcenter\n",
      "\tlower left\n",
      "\n",
      "  six.iterkeys(self.codes))))\n"
     ]
    },
    {
     "data": {
      "image/png": "[encoded data removed]",
      "text/plain": [
       "<matplotlib.figure.Figure at 0x1e14a820b00>"
      ]
     },
     "metadata": {},
     "output_type": "display_data"
    }
   ],
   "source": [
    "#roc = roc_curve(y_true, y_score, pos_label=None, sample_weight=None, drop_intermediate=True)\n",
    "from sklearn.metrics import roc_curve, auc\n",
    "import matplotlib.pyplot as plt\n",
    "\n",
    "fp, tp, th = roc_curve(test_class_array, pred)\n",
    "roc_auc = auc(fp, tp)\n",
    "plt.title('ROC Curve for Multinomial Bayes Classifier')\n",
    "plt.plot(fp, tp, 'b', label = 'AUC = %0.2f'% roc_auc)\n",
    "plt.legend(loc = 'lower_right')\n",
    "plt.xlim([-0.1,1.2])\n",
    "plt.ylim([-0.1,1.2])\n",
    "plt.ylabel('True Positive Rate')\n",
    "plt.xlabel('False Positive Rate')\n",
    "plt.show()"
   ]
  },
  {
   "cell_type": "code",
   "execution_count": null,
   "metadata": {
    "collapsed": true
   },
   "outputs": [],
   "source": []
  }
 ],
 "metadata": {
  "anaconda-cloud": {},
  "kernelspec": {
   "display_name": "Python [default]",
   "language": "python",
   "name": "python3"
  },
  "language_info": {
   "codemirror_mode": {
    "name": "ipython",
    "version": 3
   },
   "file_extension": ".py",
   "mimetype": "text/x-python",
   "name": "python",
   "nbconvert_exporter": "python",
   "pygments_lexer": "ipython3",
   "version": "3.5.2"
  }
 },
 "nbformat": 4,
 "nbformat_minor": 2
}
